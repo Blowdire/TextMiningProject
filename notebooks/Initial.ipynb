{
 "cells": [
  {
   "attachments": {},
   "cell_type": "markdown",
   "metadata": {},
   "source": [
    "## Text Mining and Search"
   ]
  },
  {
   "attachments": {},
   "cell_type": "markdown",
   "metadata": {},
   "source": [
    "### IMDB Reviews"
   ]
  },
  {
   "attachments": {},
   "cell_type": "markdown",
   "metadata": {},
   "source": [
    "positive reviews"
   ]
  },
  {
   "cell_type": "code",
   "execution_count": 11,
   "metadata": {},
   "outputs": [
    {
     "name": "stderr",
     "output_type": "stream",
     "text": [
      "100%|██████████| 12500/12500 [01:09<00:00, 180.49it/s]\n"
     ]
    }
   ],
   "source": [
    "import io\n",
    "import pandas as pd\n",
    "from tqdm import tqdm\n",
    "import os\n",
    "\n",
    "train_dataset = pd.DataFrame(columns=['text','sentiment'])\n",
    "\n",
    "found = 0\n",
    "for file in tqdm(os.listdir('./IMDB/train/neg/')):\n",
    "  with io.open('./IMDB/train/neg/'+file, mode=\"r\", encoding=\"utf-8\") as f:\n",
    "    text = f.read()\n",
    "    train_dataset.loc[len(train_dataset)] = [text, 'NEG']\n",
    "            "
   ]
  },
  {
   "attachments": {},
   "cell_type": "markdown",
   "metadata": {},
   "source": [
    "negative reviews"
   ]
  },
  {
   "cell_type": "code",
   "execution_count": 12,
   "metadata": {},
   "outputs": [
    {
     "name": "stderr",
     "output_type": "stream",
     "text": [
      "100%|██████████| 12500/12500 [01:13<00:00, 170.77it/s]\n"
     ]
    }
   ],
   "source": [
    "import io\n",
    "import pandas as pd\n",
    "from tqdm import tqdm\n",
    "import os\n",
    "\n",
    "for file in tqdm(os.listdir('./IMDB/train/pos/')):\n",
    "  with io.open('./IMDB/train/pos/'+file, mode=\"r\", encoding=\"utf-8\") as f:\n",
    "    text = f.read()\n",
    "    train_dataset.loc[len(train_dataset)] = [text, 'POS']\n"
   ]
  },
  {
   "cell_type": "code",
   "execution_count": 15,
   "metadata": {},
   "outputs": [],
   "source": [
    "train_dataset.to_csv('./data/train_dataset.csv')"
   ]
  },
  {
   "cell_type": "code",
   "execution_count": 14,
   "metadata": {},
   "outputs": [
    {
     "name": "stderr",
     "output_type": "stream",
     "text": [
      "100%|██████████| 12500/12500 [01:15<00:00, 164.66it/s]\n",
      "100%|██████████| 12500/12500 [01:00<00:00, 206.50it/s]\n"
     ]
    }
   ],
   "source": [
    "import io\n",
    "import pandas as pd\n",
    "from tqdm import tqdm\n",
    "import os\n",
    "\n",
    "test_dataset = pd.DataFrame(columns=['text', 'sentiment'])\n",
    "\n",
    "found = 0\n",
    "for file in tqdm(os.listdir('./IMDB/test/neg/')):\n",
    "  with io.open('./IMDB/test/neg/'+file, mode=\"r\", encoding=\"utf-8\") as f:\n",
    "    text = f.read()\n",
    "    train_dataset.loc[len(train_dataset)] = [text, 'NEG']\n",
    "for file in tqdm(os.listdir('./IMDB/test/pos/')):\n",
    "  with io.open('./IMDB/test/pos/'+file, mode=\"r\", encoding=\"utf-8\") as f:\n",
    "    text = f.read()\n",
    "    test_dataset.loc[len(test_dataset)] = [text, 'POS']\n",
    "\n",
    "test_dataset.to_csv('./data/train_dataset.csv')\n"
   ]
  }
 ],
 "metadata": {
  "kernelspec": {
   "display_name": "Python 3",
   "language": "python",
   "name": "python3"
  },
  "language_info": {
   "codemirror_mode": {
    "name": "ipython",
    "version": 3
   },
   "file_extension": ".py",
   "mimetype": "text/x-python",
   "name": "python",
   "nbconvert_exporter": "python",
   "pygments_lexer": "ipython3",
   "version": "3.10.7"
  },
  "orig_nbformat": 4,
  "vscode": {
   "interpreter": {
    "hash": "e850eec08e9669c52e782ee28b71a07544c9e38f5af88e96f29f06e82864309f"
   }
  }
 },
 "nbformat": 4,
 "nbformat_minor": 2
}
